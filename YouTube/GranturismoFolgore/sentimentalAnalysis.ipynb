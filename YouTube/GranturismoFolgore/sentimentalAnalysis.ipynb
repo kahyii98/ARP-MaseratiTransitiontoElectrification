{
 "cells": [
  {
   "cell_type": "markdown",
   "metadata": {},
   "source": [
    "# Sentimental Analysis "
   ]
  },
  {
   "cell_type": "code",
   "execution_count": 14,
   "metadata": {},
   "outputs": [
    {
     "name": "stdout",
     "output_type": "stream",
     "text": [
      "huggingface/tokenizers: The current process just got forked, after parallelism has already been used. Disabling parallelism to avoid deadlocks...\n",
      "To disable this warning, you can either:\n",
      "\t- Avoid using `tokenizers` before the fork if possible\n",
      "\t- Explicitly set the environment variable TOKENIZERS_PARALLELISM=(true | false)\n"
     ]
    }
   ],
   "source": [
    "# Import libraries\n",
    "import pandas as pd\n",
    "from transformers import AutoTokenizer\n",
    "from transformers import AutoModelForSequenceClassification\n",
    "from scipy.special import softmax\n",
    "import nltk\n",
    "from nltk.sentiment import SentimentIntensityAnalyzer\n",
    "from tqdm.notebook import tqdm\n",
    "import matplotlib.pyplot as plt\n"
   ]
  },
  {
   "cell_type": "code",
   "execution_count": 3,
   "metadata": {},
   "outputs": [
    {
     "name": "stdout",
     "output_type": "stream",
     "text": [
      "<class 'pandas.core.frame.DataFrame'>\n",
      "RangeIndex: 1687 entries, 0 to 1686\n",
      "Data columns (total 5 columns):\n",
      " #   Column     Non-Null Count  Dtype \n",
      "---  ------     --------------  ----- \n",
      " 0   Title      1687 non-null   object\n",
      " 1   Username   1687 non-null   object\n",
      " 2   Comment    1687 non-null   object\n",
      " 3   Date       1687 non-null   object\n",
      " 4   LikeCount  642 non-null    object\n",
      "dtypes: object(5)\n",
      "memory usage: 66.0+ KB\n"
     ]
    }
   ],
   "source": [
    "# Read the FormulaE.xlsx file from one directory above the current script's location\n",
    "df = pd.read_excel('../GranTurismoFolgore.xlsx')\n",
    "\n",
    "# Display the summary statistics of the DataFrame to get an overview of the data#\n",
    "df.info()"
   ]
  },
  {
   "cell_type": "markdown",
   "metadata": {},
   "source": [
    "## Method 1: Vader"
   ]
  },
  {
   "cell_type": "code",
   "execution_count": 4,
   "metadata": {},
   "outputs": [
    {
     "name": "stderr",
     "output_type": "stream",
     "text": [
      "[nltk_data] Downloading package vader_lexicon to\n",
      "[nltk_data]     /Users/jocelyn/nltk_data...\n",
      "[nltk_data]   Package vader_lexicon is already up-to-date!\n"
     ]
    },
    {
     "data": {
      "text/plain": [
       "True"
      ]
     },
     "execution_count": 4,
     "metadata": {},
     "output_type": "execute_result"
    }
   ],
   "source": [
    "# Download the VADER lexicon for sentiment analysis\n",
    "nltk.download('vader_lexicon')"
   ]
  },
  {
   "cell_type": "code",
   "execution_count": 6,
   "metadata": {},
   "outputs": [
    {
     "data": {
      "text/plain": [
       "{'neg': 0.622, 'neu': 0.378, 'pos': 0.0, 'compound': -0.509}"
      ]
     },
     "execution_count": 6,
     "metadata": {},
     "output_type": "execute_result"
    }
   ],
   "source": [
    "# Initialize the VADER sentiment intensity analyzer\n",
    "sia = SentimentIntensityAnalyzer()\n",
    "\n",
    "# Analyze the sentiment of the sentence 'I am not happy!'\n",
    "score = sia.polarity_scores('I am not happy!')\n",
    "score"
   ]
  },
  {
   "cell_type": "code",
   "execution_count": 7,
   "metadata": {},
   "outputs": [
    {
     "data": {
      "text/plain": [
       "0       There are speed limits on Italian roads, but n...\n",
       "1       we honestly need to see these in india. under ...\n",
       "2                                           That sucks!! \n",
       "3                                165 what does it mean ? \n",
       "4       Could really feel your smile Sergius, was havi...\n",
       "                              ...                        \n",
       "1682                            Unmistakably Ford Puma  😬\n",
       "1683    Right? The smaller the headlights get and cons...\n",
       "1684    Front  = Maruti Suzuki Dzire\\nBack  - Jagvar F...\n",
       "1685    It resembles a Ford Puma, in the headlights. n...\n",
       "1686    Oh look, an overpriced Ford Puma clone with no...\n",
       "Name: Comment, Length: 1687, dtype: object"
      ]
     },
     "execution_count": 7,
     "metadata": {},
     "output_type": "execute_result"
    }
   ],
   "source": [
    "# Access the 'Comment' column of the DataFrame\n",
    "df.Comment"
   ]
  },
  {
   "cell_type": "code",
   "execution_count": 8,
   "metadata": {},
   "outputs": [
    {
     "data": {
      "text/plain": [
       "-0.509"
      ]
     },
     "execution_count": 8,
     "metadata": {},
     "output_type": "execute_result"
    }
   ],
   "source": [
    "# Retrieve the compound sentiment score from the analysis results\n",
    "score['compound']"
   ]
  },
  {
   "cell_type": "code",
   "execution_count": 9,
   "metadata": {},
   "outputs": [],
   "source": [
    "# Initialise an empty list to store the sentiment values\n",
    "emotionVader =[]\n",
    "\n",
    "# Loop through each comment in the DataFrame\n",
    "for i in df.Comment:\n",
    "    # Perform sentiment analysis and only retrieve the 'compound' score\n",
    "    compound= sia.polarity_scores(i)['compound']\n",
    "    \n",
    "    # Check if the compound score is positive\n",
    "    if compound>0:\n",
    "        # Append 1 to indicate a positive comment\n",
    "        emotionVader.append(1)\n",
    "    \n",
    "    else:\n",
    "        # Append 0 to indicate a negative or neutral comment\n",
    "        emotionVader.append(0)"
   ]
  },
  {
   "cell_type": "code",
   "execution_count": 10,
   "metadata": {},
   "outputs": [
    {
     "data": {
      "text/html": [
       "<div>\n",
       "<style scoped>\n",
       "    .dataframe tbody tr th:only-of-type {\n",
       "        vertical-align: middle;\n",
       "    }\n",
       "\n",
       "    .dataframe tbody tr th {\n",
       "        vertical-align: top;\n",
       "    }\n",
       "\n",
       "    .dataframe thead th {\n",
       "        text-align: right;\n",
       "    }\n",
       "</style>\n",
       "<table border=\"1\" class=\"dataframe\">\n",
       "  <thead>\n",
       "    <tr style=\"text-align: right;\">\n",
       "      <th></th>\n",
       "      <th>Title</th>\n",
       "      <th>Username</th>\n",
       "      <th>Comment</th>\n",
       "      <th>Date</th>\n",
       "      <th>LikeCount</th>\n",
       "      <th>EmotionVader</th>\n",
       "    </tr>\n",
       "  </thead>\n",
       "  <tbody>\n",
       "    <tr>\n",
       "      <th>0</th>\n",
       "      <td>2023 Maserati Gran Turismo review - Trofeo &amp; F...</td>\n",
       "      <td>@niminunnikrishnan4481</td>\n",
       "      <td>There are speed limits on Italian roads, but n...</td>\n",
       "      <td>4 months ago</td>\n",
       "      <td>18 likes</td>\n",
       "      <td>1</td>\n",
       "    </tr>\n",
       "    <tr>\n",
       "      <th>1</th>\n",
       "      <td>2023 Maserati Gran Turismo review - Trofeo &amp; F...</td>\n",
       "      <td>@shorehouseclubrecords7862</td>\n",
       "      <td>we honestly need to see these in india. under ...</td>\n",
       "      <td>4 months ago</td>\n",
       "      <td>10 likes</td>\n",
       "      <td>1</td>\n",
       "    </tr>\n",
       "    <tr>\n",
       "      <th>2</th>\n",
       "      <td>2023 Maserati Gran Turismo review - Trofeo &amp; F...</td>\n",
       "      <td>@harshsrivastava2588</td>\n",
       "      <td>That sucks!!</td>\n",
       "      <td>4 months ago</td>\n",
       "      <td>NaN</td>\n",
       "      <td>0</td>\n",
       "    </tr>\n",
       "    <tr>\n",
       "      <th>3</th>\n",
       "      <td>2023 Maserati Gran Turismo review - Trofeo &amp; F...</td>\n",
       "      <td>@user-pw4pb9sl8v</td>\n",
       "      <td>165 what does it mean ?</td>\n",
       "      <td>3 months ago</td>\n",
       "      <td>NaN</td>\n",
       "      <td>0</td>\n",
       "    </tr>\n",
       "    <tr>\n",
       "      <th>4</th>\n",
       "      <td>2023 Maserati Gran Turismo review - Trofeo &amp; F...</td>\n",
       "      <td>@nikhilnambiar2431</td>\n",
       "      <td>Could really feel your smile Sergius, was havi...</td>\n",
       "      <td>4 months ago</td>\n",
       "      <td>4 likes</td>\n",
       "      <td>1</td>\n",
       "    </tr>\n",
       "    <tr>\n",
       "      <th>...</th>\n",
       "      <td>...</td>\n",
       "      <td>...</td>\n",
       "      <td>...</td>\n",
       "      <td>...</td>\n",
       "      <td>...</td>\n",
       "      <td>...</td>\n",
       "    </tr>\n",
       "    <tr>\n",
       "      <th>1682</th>\n",
       "      <td>Electric MASERATI SUV Grecale 'Folgore' (2023)...</td>\n",
       "      <td>@numbersletters1442</td>\n",
       "      <td>Unmistakably Ford Puma  😬</td>\n",
       "      <td>1 month ago</td>\n",
       "      <td>2 likes</td>\n",
       "      <td>0</td>\n",
       "    </tr>\n",
       "    <tr>\n",
       "      <th>1683</th>\n",
       "      <td>Electric MASERATI SUV Grecale 'Folgore' (2023)...</td>\n",
       "      <td>@cocopuffz604</td>\n",
       "      <td>Right? The smaller the headlights get and cons...</td>\n",
       "      <td>1 month ago</td>\n",
       "      <td>NaN</td>\n",
       "      <td>1</td>\n",
       "    </tr>\n",
       "    <tr>\n",
       "      <th>1684</th>\n",
       "      <td>Electric MASERATI SUV Grecale 'Folgore' (2023)...</td>\n",
       "      <td>@sonianarendramodi2605</td>\n",
       "      <td>Front  = Maruti Suzuki Dzire\\nBack  - Jagvar F...</td>\n",
       "      <td>1 month ago</td>\n",
       "      <td>4 likes</td>\n",
       "      <td>0</td>\n",
       "    </tr>\n",
       "    <tr>\n",
       "      <th>1685</th>\n",
       "      <td>Electric MASERATI SUV Grecale 'Folgore' (2023)...</td>\n",
       "      <td>@user-nahmannave</td>\n",
       "      <td>It resembles a Ford Puma, in the headlights. n...</td>\n",
       "      <td>1 month ago</td>\n",
       "      <td>NaN</td>\n",
       "      <td>0</td>\n",
       "    </tr>\n",
       "    <tr>\n",
       "      <th>1686</th>\n",
       "      <td>Electric MASERATI SUV Grecale 'Folgore' (2023)...</td>\n",
       "      <td>@hugolafhugolaf</td>\n",
       "      <td>Oh look, an overpriced Ford Puma clone with no...</td>\n",
       "      <td>1 month ago</td>\n",
       "      <td>NaN</td>\n",
       "      <td>0</td>\n",
       "    </tr>\n",
       "  </tbody>\n",
       "</table>\n",
       "<p>1687 rows × 6 columns</p>\n",
       "</div>"
      ],
      "text/plain": [
       "                                                  Title  \\\n",
       "0     2023 Maserati Gran Turismo review - Trofeo & F...   \n",
       "1     2023 Maserati Gran Turismo review - Trofeo & F...   \n",
       "2     2023 Maserati Gran Turismo review - Trofeo & F...   \n",
       "3     2023 Maserati Gran Turismo review - Trofeo & F...   \n",
       "4     2023 Maserati Gran Turismo review - Trofeo & F...   \n",
       "...                                                 ...   \n",
       "1682  Electric MASERATI SUV Grecale 'Folgore' (2023)...   \n",
       "1683  Electric MASERATI SUV Grecale 'Folgore' (2023)...   \n",
       "1684  Electric MASERATI SUV Grecale 'Folgore' (2023)...   \n",
       "1685  Electric MASERATI SUV Grecale 'Folgore' (2023)...   \n",
       "1686  Electric MASERATI SUV Grecale 'Folgore' (2023)...   \n",
       "\n",
       "                        Username  \\\n",
       "0         @niminunnikrishnan4481   \n",
       "1     @shorehouseclubrecords7862   \n",
       "2           @harshsrivastava2588   \n",
       "3               @user-pw4pb9sl8v   \n",
       "4             @nikhilnambiar2431   \n",
       "...                          ...   \n",
       "1682         @numbersletters1442   \n",
       "1683               @cocopuffz604   \n",
       "1684      @sonianarendramodi2605   \n",
       "1685            @user-nahmannave   \n",
       "1686             @hugolafhugolaf   \n",
       "\n",
       "                                                Comment          Date  \\\n",
       "0     There are speed limits on Italian roads, but n...  4 months ago   \n",
       "1     we honestly need to see these in india. under ...  4 months ago   \n",
       "2                                         That sucks!!   4 months ago   \n",
       "3                              165 what does it mean ?   3 months ago   \n",
       "4     Could really feel your smile Sergius, was havi...  4 months ago   \n",
       "...                                                 ...           ...   \n",
       "1682                          Unmistakably Ford Puma  😬   1 month ago   \n",
       "1683  Right? The smaller the headlights get and cons...   1 month ago   \n",
       "1684  Front  = Maruti Suzuki Dzire\\nBack  - Jagvar F...   1 month ago   \n",
       "1685  It resembles a Ford Puma, in the headlights. n...   1 month ago   \n",
       "1686  Oh look, an overpriced Ford Puma clone with no...   1 month ago   \n",
       "\n",
       "     LikeCount  EmotionVader  \n",
       "0     18 likes             1  \n",
       "1     10 likes             1  \n",
       "2          NaN             0  \n",
       "3          NaN             0  \n",
       "4      4 likes             1  \n",
       "...        ...           ...  \n",
       "1682   2 likes             0  \n",
       "1683       NaN             1  \n",
       "1684   4 likes             0  \n",
       "1685       NaN             0  \n",
       "1686       NaN             0  \n",
       "\n",
       "[1687 rows x 6 columns]"
      ]
     },
     "execution_count": 10,
     "metadata": {},
     "output_type": "execute_result"
    }
   ],
   "source": [
    "# Add the emotionVader list as a new column 'EmotionVader' in the DataFrame\n",
    "df['EmotionVader'] = emotionVader\n",
    "\n",
    "# Display the updated DataFrame with the new 'EmotionVader' column\n",
    "df"
   ]
  },
  {
   "cell_type": "code",
   "execution_count": 11,
   "metadata": {},
   "outputs": [
    {
     "data": {
      "text/plain": [
       "EmotionVader\n",
       "0    845\n",
       "1    842\n",
       "Name: count, dtype: int64"
      ]
     },
     "execution_count": 11,
     "metadata": {},
     "output_type": "execute_result"
    }
   ],
   "source": [
    "# Count the frequency of each unique value in the 'EmotionVader' column and store it in emotionCount\n",
    "emotionCount = df['EmotionVader'].value_counts()\n",
    "\n",
    "# Display the counts of each unique emotion value\n",
    "emotionCount"
   ]
  },
  {
   "cell_type": "markdown",
   "metadata": {},
   "source": [
    "## Method 2: Roberta Pretrained Model"
   ]
  },
  {
   "cell_type": "code",
   "execution_count": 12,
   "metadata": {},
   "outputs": [],
   "source": [
    "# Import libraries\n",
    "from transformers import AutoTokenizer\n",
    "from transformers import AutoModelForSequenceClassification\n",
    "from scipy.special import softmax\n",
    "import pandas as pd\n",
    "import emoji\n"
   ]
  },
  {
   "cell_type": "code",
   "execution_count": 3,
   "metadata": {},
   "outputs": [],
   "source": [
    "# Specify the pre-trained model to use for sentiment analysis\n",
    "MODEL = \"cardiffnlp/twitter-roberta-base-sentiment\"\n",
    "\n",
    "# Initialize the tokenizer from the pre-trained model\n",
    "tokenizer = AutoTokenizer.from_pretrained(MODEL)\n",
    "\n",
    "# Initialize the sequence classification model from the pre-trained model\n",
    "model = AutoModelForSequenceClassification.from_pretrained(MODEL)"
   ]
  },
  {
   "cell_type": "code",
   "execution_count": 7,
   "metadata": {},
   "outputs": [
    {
     "name": "stdout",
     "output_type": "stream",
     "text": [
      "{'roberta_neg': 0.7206379, 'roberta_neu': 0.24175856, 'roberta_pos': 0.037603553}\n"
     ]
    }
   ],
   "source": [
    "df = pd.read_excel('../GranTurismoFolgore.xlsx')\n",
    "\n",
    "# Iterate through each comment in the DataFrame\n",
    "for i in df.Comment:\n",
    "    # Tokenize the comment and prepare it for the model\n",
    "    encodedText = tokenizer(i, return_tensors='pt')\n",
    "    \n",
    "    # Get the sentiment scores using the model\n",
    "    output = model(**encodedText)\n",
    "    \n",
    "    # Extract and detach the scores from the model's output and convert to numpy array\n",
    "    scores = output[0][0].detach().numpy()\n",
    "    \n",
    "    # Apply the Softmax function to the scores to get probabilities\n",
    "    scores = softmax(scores)\n",
    "    \n",
    "    # Create a dictionary to store the sentiment probabilities\n",
    "    scoresDict = {\n",
    "        'roberta_neg' : scores[0],  # Negative sentiment probability\n",
    "        'roberta_neu' : scores[1],  # Neutral sentiment probability\n",
    "        'roberta_pos' : scores[2]   # Positive sentiment probability\n",
    "    }\n",
    "\n",
    "# Display the sentiment scores for the last comment in the DataFrame\n",
    "print(scoresDict)\n"
   ]
  },
  {
   "cell_type": "markdown",
   "metadata": {},
   "source": [
    "Compound score is calculated to ensure consistency comparable with Vader.\n",
    "If the score is greater than 0, it is encountered as postive comments; if the score is less than 0, it is encountered as negative comments."
   ]
  },
  {
   "cell_type": "code",
   "execution_count": 8,
   "metadata": {},
   "outputs": [],
   "source": [
    "# Initialise an empty list to store the sentiment values based on RoBERTa model\n",
    "emotionRoberta = []\n",
    "\n",
    "# Loop through each comment in the DataFrame\n",
    "for i in df.Comment:\n",
    "    # Tokenise the comment and prepare it for the model\n",
    "    encodedText = tokenizer(i, return_tensors='pt')\n",
    "    \n",
    "    # Get the sentiment scores using the model\n",
    "    output = model(**encodedText)\n",
    "    \n",
    "    # Extract and detach the scores from the model's output and convert to numpy array\n",
    "    scores = output[0][0].detach().numpy()\n",
    "    \n",
    "    # Apply the Softmax function to the scores to get probabilities\n",
    "    scores = softmax(scores)\n",
    "    \n",
    "    # Calculate a compound score based on the probabilities for negative and positive sentiments\n",
    "    compoundScore = scores[0] * (-1) + scores[2]\n",
    "\n",
    "    # Classify the comment as positive or negative based on the compound score\n",
    "    if compoundScore > 0:\n",
    "        # Append 1 to indicate a positive comment\n",
    "        emotionRoberta.append(1)\n",
    "    else:\n",
    "        # Append 0 to indicate a negative comment\n",
    "        emotionRoberta.append(0)"
   ]
  },
  {
   "cell_type": "code",
   "execution_count": 9,
   "metadata": {},
   "outputs": [
    {
     "data": {
      "text/plain": [
       "EmotionRoberta\n",
       "0    853\n",
       "1    834\n",
       "Name: count, dtype: int64"
      ]
     },
     "execution_count": 9,
     "metadata": {},
     "output_type": "execute_result"
    }
   ],
   "source": [
    "# Add the 'emotionRoberta' list as a new column 'EmotionRoberta' to the DataFrame\n",
    "df['EmotionRoberta'] = emotionRoberta\n",
    "\n",
    "# Count the frequency of each unique value in the 'EmotionRoberta' column and store it in 'emotionCount'\n",
    "emotionCount = df['EmotionRoberta'].value_counts()\n",
    "\n",
    "# Display the counts of each unique value in the 'EmotionRoberta' column\n",
    "emotionCount\n"
   ]
  },
  {
   "cell_type": "code",
   "execution_count": 10,
   "metadata": {},
   "outputs": [],
   "source": [
    "# Save the updated DataFrame to an Excel file named 'RobertaSentimental.xlsx'\n",
    "df.to_excel('RobertaSentimental.xlsx')"
   ]
  },
  {
   "cell_type": "code",
   "execution_count": 13,
   "metadata": {},
   "outputs": [
    {
     "name": "stdout",
     "output_type": "stream",
     "text": [
      "0.0 of the emojis are not identified by this tokenizer.\n"
     ]
    }
   ],
   "source": [
    "# Initialize a list of all emojis\n",
    "emojiList = list(emoji.EMOJI_DATA.keys())\n",
    "\n",
    "# Initialize a counter for emojis that are not identified by the tokenizer\n",
    "cnt = 0\n",
    "\n",
    "# Loop through each emoji to check its tokenization\n",
    "for e in emojiList:\n",
    "    # Tokenize and decode the emoji, removing special tokens like </s>\n",
    "    tokenized = tokenizer.decode(tokenizer.encode(e)).strip(\"</s>\").strip()\n",
    "    \n",
    "    # Check if the original emoji is not present in the tokenized form\n",
    "    if e not in tokenized:\n",
    "        cnt += 1  # Increment the counter if the emoji is not identified\n",
    "\n",
    "# Calculate and print the proportion of emojis not identified by the tokenizer\n",
    "print(f\"{cnt/len(emojiList)} of the emojis are not identified by this tokenizer.\")"
   ]
  },
  {
   "cell_type": "markdown",
   "metadata": {},
   "source": [
    "## Emoji preprocessing"
   ]
  },
  {
   "cell_type": "code",
   "execution_count": null,
   "metadata": {},
   "outputs": [],
   "source": [
    "# Concatenate Description method (concat-desc) \n",
    "def emoji2concat_description(text):\n",
    "    emoji_list = emoji.emoji_list(text)\n",
    "    ret = emoji.replace_emoji(text, replace='').strip()\n",
    "    for json in emoji_list:\n",
    "        this_desc = ' '.join(emoji.EMOJI_DATA[json['emoji']]['en'].split('_')).strip(':')\n",
    "        ret += ' ' + this_desc\n",
    "    return ret"
   ]
  },
  {
   "cell_type": "code",
   "execution_count": null,
   "metadata": {},
   "outputs": [],
   "source": [
    "# Create a new column 'Processed_Comment' by applying the emoji2concat_description function to 'Comment'\n",
    "df['processedComment'] = df['Comment'].apply(emoji2concat_description)\n"
   ]
  },
  {
   "cell_type": "code",
   "execution_count": null,
   "metadata": {},
   "outputs": [],
   "source": [
    "emotionEmoji=[]\n",
    "for i in df.processedComment:\n",
    "    encodedText = tokenizer(i, return_tensors='pt')\n",
    "    output = model(**encodedText)\n",
    "    scores = output[0][0].detach().numpy()\n",
    "    scores = softmax(scores)\n",
    "    compoundScore = scores[0] * (-1) + scores[2]\n",
    "\n",
    "    if compoundScore>0:\n",
    "        #positiveComment\n",
    "        emotionEmoji.append(1)\n",
    "    \n",
    "    else:\n",
    "        #negativeComment\n",
    "        emotionEmoji.append(0)"
   ]
  },
  {
   "cell_type": "code",
   "execution_count": null,
   "metadata": {},
   "outputs": [
    {
     "data": {
      "text/plain": [
       "0    858\n",
       "1    829\n",
       "Name: EmotionEmoji, dtype: int64"
      ]
     },
     "execution_count": 111,
     "metadata": {},
     "output_type": "execute_result"
    }
   ],
   "source": [
    "df['EmotionEmoji']=emotionEmoji\n",
    "emotionCount = df['EmotionEmoji'].value_counts()\n",
    "emotionCount\n"
   ]
  },
  {
   "cell_type": "code",
   "execution_count": null,
   "metadata": {},
   "outputs": [
    {
     "data": {
      "text/html": [
       "<div>\n",
       "<style scoped>\n",
       "    .dataframe tbody tr th:only-of-type {\n",
       "        vertical-align: middle;\n",
       "    }\n",
       "\n",
       "    .dataframe tbody tr th {\n",
       "        vertical-align: top;\n",
       "    }\n",
       "\n",
       "    .dataframe thead th {\n",
       "        text-align: right;\n",
       "    }\n",
       "</style>\n",
       "<table border=\"1\" class=\"dataframe\">\n",
       "  <thead>\n",
       "    <tr style=\"text-align: right;\">\n",
       "      <th></th>\n",
       "      <th>Title</th>\n",
       "      <th>Username</th>\n",
       "      <th>Comment</th>\n",
       "      <th>Date</th>\n",
       "      <th>LikeCount</th>\n",
       "      <th>EmotionVader</th>\n",
       "      <th>EmotionRoberta</th>\n",
       "      <th>processedComment</th>\n",
       "      <th>EmotionEmoji</th>\n",
       "    </tr>\n",
       "  </thead>\n",
       "  <tbody>\n",
       "    <tr>\n",
       "      <th>0</th>\n",
       "      <td>2023 Maserati Gran Turismo review - Trofeo &amp; F...</td>\n",
       "      <td>@niminunnikrishnan4481</td>\n",
       "      <td>There are speed limits on Italian roads, but n...</td>\n",
       "      <td>4 months ago</td>\n",
       "      <td>18 likes</td>\n",
       "      <td>1</td>\n",
       "      <td>1</td>\n",
       "      <td>There are speed limits on Italian roads, but n...</td>\n",
       "      <td>1</td>\n",
       "    </tr>\n",
       "    <tr>\n",
       "      <th>1</th>\n",
       "      <td>2023 Maserati Gran Turismo review - Trofeo &amp; F...</td>\n",
       "      <td>@shorehouseclubrecords7862</td>\n",
       "      <td>we honestly need to see these in india. under ...</td>\n",
       "      <td>4 months ago</td>\n",
       "      <td>10 likes</td>\n",
       "      <td>1</td>\n",
       "      <td>1</td>\n",
       "      <td>we honestly need to see these in india. under ...</td>\n",
       "      <td>1</td>\n",
       "    </tr>\n",
       "    <tr>\n",
       "      <th>2</th>\n",
       "      <td>2023 Maserati Gran Turismo review - Trofeo &amp; F...</td>\n",
       "      <td>@harshsrivastava2588</td>\n",
       "      <td>That sucks!!</td>\n",
       "      <td>4 months ago</td>\n",
       "      <td>NaN</td>\n",
       "      <td>0</td>\n",
       "      <td>0</td>\n",
       "      <td>That sucks!!</td>\n",
       "      <td>0</td>\n",
       "    </tr>\n",
       "    <tr>\n",
       "      <th>3</th>\n",
       "      <td>2023 Maserati Gran Turismo review - Trofeo &amp; F...</td>\n",
       "      <td>@user-pw4pb9sl8v</td>\n",
       "      <td>165 what does it mean ?</td>\n",
       "      <td>3 months ago</td>\n",
       "      <td>NaN</td>\n",
       "      <td>0</td>\n",
       "      <td>0</td>\n",
       "      <td>165 what does it mean ?</td>\n",
       "      <td>0</td>\n",
       "    </tr>\n",
       "    <tr>\n",
       "      <th>4</th>\n",
       "      <td>2023 Maserati Gran Turismo review - Trofeo &amp; F...</td>\n",
       "      <td>@nikhilnambiar2431</td>\n",
       "      <td>Could really feel your smile Sergius, was havi...</td>\n",
       "      <td>4 months ago</td>\n",
       "      <td>4 likes</td>\n",
       "      <td>1</td>\n",
       "      <td>1</td>\n",
       "      <td>Could really feel your smile Sergius, was havi...</td>\n",
       "      <td>1</td>\n",
       "    </tr>\n",
       "    <tr>\n",
       "      <th>...</th>\n",
       "      <td>...</td>\n",
       "      <td>...</td>\n",
       "      <td>...</td>\n",
       "      <td>...</td>\n",
       "      <td>...</td>\n",
       "      <td>...</td>\n",
       "      <td>...</td>\n",
       "      <td>...</td>\n",
       "      <td>...</td>\n",
       "    </tr>\n",
       "    <tr>\n",
       "      <th>1682</th>\n",
       "      <td>Electric MASERATI SUV Grecale 'Folgore' (2023)...</td>\n",
       "      <td>@numbersletters1442</td>\n",
       "      <td>Unmistakably Ford Puma  😬</td>\n",
       "      <td>1 month ago</td>\n",
       "      <td>2 likes</td>\n",
       "      <td>0</td>\n",
       "      <td>0</td>\n",
       "      <td>Unmistakably Ford Puma grimacing face</td>\n",
       "      <td>0</td>\n",
       "    </tr>\n",
       "    <tr>\n",
       "      <th>1683</th>\n",
       "      <td>Electric MASERATI SUV Grecale 'Folgore' (2023)...</td>\n",
       "      <td>@cocopuffz604</td>\n",
       "      <td>Right? The smaller the headlights get and cons...</td>\n",
       "      <td>1 month ago</td>\n",
       "      <td>NaN</td>\n",
       "      <td>1</td>\n",
       "      <td>1</td>\n",
       "      <td>Right? The smaller the headlights get and cons...</td>\n",
       "      <td>1</td>\n",
       "    </tr>\n",
       "    <tr>\n",
       "      <th>1684</th>\n",
       "      <td>Electric MASERATI SUV Grecale 'Folgore' (2023)...</td>\n",
       "      <td>@sonianarendramodi2605</td>\n",
       "      <td>Front  = Maruti Suzuki Dzire\\nBack  - Jagvar F...</td>\n",
       "      <td>1 month ago</td>\n",
       "      <td>4 likes</td>\n",
       "      <td>0</td>\n",
       "      <td>1</td>\n",
       "      <td>Front  = Maruti Suzuki Dzire\\nBack  - Jagvar F...</td>\n",
       "      <td>1</td>\n",
       "    </tr>\n",
       "    <tr>\n",
       "      <th>1685</th>\n",
       "      <td>Electric MASERATI SUV Grecale 'Folgore' (2023)...</td>\n",
       "      <td>@user-nahmannave</td>\n",
       "      <td>It resembles a Ford Puma, in the headlights. n...</td>\n",
       "      <td>1 month ago</td>\n",
       "      <td>NaN</td>\n",
       "      <td>0</td>\n",
       "      <td>1</td>\n",
       "      <td>It resembles a Ford Puma, in the headlights. n...</td>\n",
       "      <td>1</td>\n",
       "    </tr>\n",
       "    <tr>\n",
       "      <th>1686</th>\n",
       "      <td>Electric MASERATI SUV Grecale 'Folgore' (2023)...</td>\n",
       "      <td>@hugolafhugolaf</td>\n",
       "      <td>Oh look, an overpriced Ford Puma clone with no...</td>\n",
       "      <td>1 month ago</td>\n",
       "      <td>NaN</td>\n",
       "      <td>0</td>\n",
       "      <td>0</td>\n",
       "      <td>Oh look, an overpriced Ford Puma clone with no...</td>\n",
       "      <td>0</td>\n",
       "    </tr>\n",
       "  </tbody>\n",
       "</table>\n",
       "<p>1687 rows × 9 columns</p>\n",
       "</div>"
      ],
      "text/plain": [
       "                                                  Title  \\\n",
       "0     2023 Maserati Gran Turismo review - Trofeo & F...   \n",
       "1     2023 Maserati Gran Turismo review - Trofeo & F...   \n",
       "2     2023 Maserati Gran Turismo review - Trofeo & F...   \n",
       "3     2023 Maserati Gran Turismo review - Trofeo & F...   \n",
       "4     2023 Maserati Gran Turismo review - Trofeo & F...   \n",
       "...                                                 ...   \n",
       "1682  Electric MASERATI SUV Grecale 'Folgore' (2023)...   \n",
       "1683  Electric MASERATI SUV Grecale 'Folgore' (2023)...   \n",
       "1684  Electric MASERATI SUV Grecale 'Folgore' (2023)...   \n",
       "1685  Electric MASERATI SUV Grecale 'Folgore' (2023)...   \n",
       "1686  Electric MASERATI SUV Grecale 'Folgore' (2023)...   \n",
       "\n",
       "                        Username  \\\n",
       "0         @niminunnikrishnan4481   \n",
       "1     @shorehouseclubrecords7862   \n",
       "2           @harshsrivastava2588   \n",
       "3               @user-pw4pb9sl8v   \n",
       "4             @nikhilnambiar2431   \n",
       "...                          ...   \n",
       "1682         @numbersletters1442   \n",
       "1683               @cocopuffz604   \n",
       "1684      @sonianarendramodi2605   \n",
       "1685            @user-nahmannave   \n",
       "1686             @hugolafhugolaf   \n",
       "\n",
       "                                                Comment          Date  \\\n",
       "0     There are speed limits on Italian roads, but n...  4 months ago   \n",
       "1     we honestly need to see these in india. under ...  4 months ago   \n",
       "2                                         That sucks!!   4 months ago   \n",
       "3                              165 what does it mean ?   3 months ago   \n",
       "4     Could really feel your smile Sergius, was havi...  4 months ago   \n",
       "...                                                 ...           ...   \n",
       "1682                          Unmistakably Ford Puma  😬   1 month ago   \n",
       "1683  Right? The smaller the headlights get and cons...   1 month ago   \n",
       "1684  Front  = Maruti Suzuki Dzire\\nBack  - Jagvar F...   1 month ago   \n",
       "1685  It resembles a Ford Puma, in the headlights. n...   1 month ago   \n",
       "1686  Oh look, an overpriced Ford Puma clone with no...   1 month ago   \n",
       "\n",
       "     LikeCount  EmotionVader  EmotionRoberta  \\\n",
       "0     18 likes             1               1   \n",
       "1     10 likes             1               1   \n",
       "2          NaN             0               0   \n",
       "3          NaN             0               0   \n",
       "4      4 likes             1               1   \n",
       "...        ...           ...             ...   \n",
       "1682   2 likes             0               0   \n",
       "1683       NaN             1               1   \n",
       "1684   4 likes             0               1   \n",
       "1685       NaN             0               1   \n",
       "1686       NaN             0               0   \n",
       "\n",
       "                                       processedComment  EmotionEmoji  \n",
       "0     There are speed limits on Italian roads, but n...             1  \n",
       "1     we honestly need to see these in india. under ...             1  \n",
       "2                                          That sucks!!             0  \n",
       "3                               165 what does it mean ?             0  \n",
       "4     Could really feel your smile Sergius, was havi...             1  \n",
       "...                                                 ...           ...  \n",
       "1682              Unmistakably Ford Puma grimacing face             0  \n",
       "1683  Right? The smaller the headlights get and cons...             1  \n",
       "1684  Front  = Maruti Suzuki Dzire\\nBack  - Jagvar F...             1  \n",
       "1685  It resembles a Ford Puma, in the headlights. n...             1  \n",
       "1686  Oh look, an overpriced Ford Puma clone with no...             0  \n",
       "\n",
       "[1687 rows x 9 columns]"
      ]
     },
     "execution_count": 112,
     "metadata": {},
     "output_type": "execute_result"
    }
   ],
   "source": [
    "df"
   ]
  },
  {
   "cell_type": "markdown",
   "metadata": {},
   "source": [
    "Direct Encoding(dir) is more accurate than Concatenate Description(concat-desc). Therefore, dir is chosen."
   ]
  },
  {
   "cell_type": "code",
   "execution_count": 15,
   "metadata": {},
   "outputs": [
    {
     "data": {
      "image/png": "[encoded data removed]",
      "text/plain": [
       "<Figure size 576x576 with 1 Axes>"
      ]
     },
     "metadata": {},
     "output_type": "display_data"
    }
   ],
   "source": [
    "# Calculate the distribution for EmotionRoberta\n",
    "emotionCounts = df['EmotionRoberta'].value_counts()\n",
    "emotionCounts\n",
    "# Plot a pie chart\n",
    "plt.figure(figsize=(8, 8))\n",
    "colors = [\"#B0E2FF\",\"#FFB6C1\"]\n",
    "labels = ['Negative','Positive']\n",
    "# explode = (0.1, 0)  # explode 1st slice for better visibility\n",
    "plt.pie(emotionCounts, labels=labels, colors=colors, autopct='%1.1f%%', shadow=True, startangle=110)\n",
    "plt.title('Distribution of Youtube Sentimental Analysis',fontsize=16)\n",
    "plt.show()\n"
   ]
  },
  {
   "cell_type": "code",
   "execution_count": null,
   "metadata": {},
   "outputs": [],
   "source": [
    "# df.to_excel('processedComment.xlsx')"
   ]
  },
  {
   "cell_type": "code",
   "execution_count": null,
   "metadata": {},
   "outputs": [],
   "source": [
    "# notEqual = (df['EmotionVader'] != df['EmotionRoberta']) | (df['EmotionVader'] != df['EmotionEmoji']) | (df['EmotionRoberta'] != df['EmotionEmoji'])\n",
    "# # Use the boolean mask to filter the rows where the condition is True\n",
    "\n",
    "# df['notEqual'] = notEqual  \n",
    "# df.to_excel('processedComment.xlsx')"
   ]
  }
 ],
 "metadata": {
  "kernelspec": {
   "display_name": "Python 3.9.12 ('base')",
   "language": "python",
   "name": "python3"
  },
  "language_info": {
   "codemirror_mode": {
    "name": "ipython",
    "version": 3
   },
   "file_extension": ".py",
   "mimetype": "text/x-python",
   "name": "python",
   "nbconvert_exporter": "python",
   "pygments_lexer": "ipython3",
   "version": "3.9.12"
  },
  "orig_nbformat": 4,
  "vscode": {
   "interpreter": {
    "hash": "aa7b63b2816c1bdbcd645d26c2b2c86c1f9533463077c1036b1b552d7aaa1234"
   }
  }
 },
 "nbformat": 4,
 "nbformat_minor": 2
}

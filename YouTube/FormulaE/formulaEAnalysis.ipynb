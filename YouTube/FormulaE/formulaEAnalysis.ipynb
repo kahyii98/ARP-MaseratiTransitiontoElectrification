{
 "cells": [
  {
   "cell_type": "markdown",
   "metadata": {},
   "source": [
    "# Formula E analysis"
   ]
  },
  {
   "cell_type": "code",
   "execution_count": 5,
   "metadata": {},
   "outputs": [],
   "source": [
    "# Importing necessary libraries\n",
    "import matplotlib.pyplot as plt\n",
    "import seaborn as sns\n",
    "import pandas as pd\n",
    "from scipy.special import softmax\n",
    "import emoji\n",
    "import nltk\n",
    "from nltk.sentiment import SentimentIntensityAnalyzer\n",
    "from tqdm.notebook import tqdm\n",
    "import numpy as np\n",
    "import spacy\n",
    "from sklearn.feature_extraction.text import CountVectorizer\n",
    "from sklearn.decomposition import LatentDirichletAllocation\n"
   ]
  },
  {
   "cell_type": "code",
   "execution_count": 2,
   "metadata": {},
   "outputs": [
    {
     "name": "stdout",
     "output_type": "stream",
     "text": [
      "<class 'pandas.core.frame.DataFrame'>\n",
      "RangeIndex: 215 entries, 0 to 214\n",
      "Data columns (total 5 columns):\n",
      " #   Column     Non-Null Count  Dtype \n",
      "---  ------     --------------  ----- \n",
      " 0   Title      215 non-null    object\n",
      " 1   Username   214 non-null    object\n",
      " 2   Comment    215 non-null    object\n",
      " 3   Date       215 non-null    object\n",
      " 4   LikeCount  112 non-null    object\n",
      "dtypes: object(5)\n",
      "memory usage: 8.5+ KB\n"
     ]
    }
   ],
   "source": [
    "# Read the FormulaE.xlsx file from one directory above the current script's location\n",
    "df = pd.read_excel('../FormulaE.xlsx')\n",
    "\n",
    "# Display the summary statistics of the DataFrame to get an overview of the data#\n",
    "df.info()"
   ]
  },
  {
   "cell_type": "markdown",
   "metadata": {},
   "source": [
    "## Sentimental Analysis"
   ]
  },
  {
   "cell_type": "markdown",
   "metadata": {},
   "source": [
    "### Method 1: Vader"
   ]
  },
  {
   "cell_type": "code",
   "execution_count": 3,
   "metadata": {},
   "outputs": [
    {
     "name": "stderr",
     "output_type": "stream",
     "text": [
      "[nltk_data] Downloading package vader_lexicon to\n",
      "[nltk_data]     /Users/jocelyn/nltk_data...\n",
      "[nltk_data]   Package vader_lexicon is already up-to-date!\n"
     ]
    },
    {
     "data": {
      "text/plain": [
       "True"
      ]
     },
     "execution_count": 3,
     "metadata": {},
     "output_type": "execute_result"
    }
   ],
   "source": [
    "# Download the VADER lexicon for sentiment analysis\n",
    "nltk.download('vader_lexicon')"
   ]
  },
  {
   "cell_type": "code",
   "execution_count": 4,
   "metadata": {},
   "outputs": [
    {
     "data": {
      "text/plain": [
       "{'neg': 0.622, 'neu': 0.378, 'pos': 0.0, 'compound': -0.509}"
      ]
     },
     "execution_count": 4,
     "metadata": {},
     "output_type": "execute_result"
    }
   ],
   "source": [
    "# Initialize the VADER sentiment intensity analyzer\n",
    "sia = SentimentIntensityAnalyzer()\n",
    "\n",
    "# Analyze the sentiment of the sentence 'I am not happy!'\n",
    "score = sia.polarity_scores('I am not happy!')\n",
    "score"
   ]
  },
  {
   "cell_type": "code",
   "execution_count": 5,
   "metadata": {},
   "outputs": [
    {
     "data": {
      "text/plain": [
       "-0.509"
      ]
     },
     "execution_count": 5,
     "metadata": {},
     "output_type": "execute_result"
    }
   ],
   "source": [
    "# Retrieve the compound sentiment score from the analysis results\n",
    "score['compound']"
   ]
  },
  {
   "cell_type": "code",
   "execution_count": 6,
   "metadata": {},
   "outputs": [
    {
     "data": {
      "text/plain": [
       "0      By far the best looking Formula E team this se...\n",
       "1                            Splendid performance  💕💕🖤🖤🔱\n",
       "2      Grande Maserati vero made in Italy in formula ...\n",
       "3      Con Maserati ho un rapporto fantastico da anni...\n",
       "4      Finalmente Maserati torna a competere seriamen...\n",
       "                             ...                        \n",
       "210                                            Stupenda \n",
       "211                                                   💙🖤\n",
       "212                                             LFG  🔌🔌🔌\n",
       "213                           See you all in january  💙🖤\n",
       "214              Hey hey testing is coming up next week \n",
       "Name: Comment, Length: 215, dtype: object"
      ]
     },
     "execution_count": 6,
     "metadata": {},
     "output_type": "execute_result"
    }
   ],
   "source": [
    "# Access the 'Comment' column of the DataFrame\n",
    "df.Comment"
   ]
  },
  {
   "cell_type": "code",
   "execution_count": 7,
   "metadata": {},
   "outputs": [],
   "source": [
    "# Initialise an empty list to store the sentiment values\n",
    "emotionVader =[]\n",
    "\n",
    "# Loop through each comment in the DataFrame\n",
    "for i in df.Comment:\n",
    "    # Perform sentiment analysis and only retrieve the 'compound' score\n",
    "    compound= sia.polarity_scores(i)['compound']\n",
    "    \n",
    "    # Check if the compound score is positive\n",
    "    if compound>0:\n",
    "        # Append 1 to indicate a positive comment\n",
    "        emotionVader.append(1)\n",
    "    \n",
    "    else:\n",
    "        # Append 0 to indicate a negative or neutral comment\n",
    "        emotionVader.append(0)\n",
    "    "
   ]
  },
  {
   "cell_type": "code",
   "execution_count": 8,
   "metadata": {},
   "outputs": [
    {
     "data": {
      "text/html": [
       "<div>\n",
       "<style scoped>\n",
       "    .dataframe tbody tr th:only-of-type {\n",
       "        vertical-align: middle;\n",
       "    }\n",
       "\n",
       "    .dataframe tbody tr th {\n",
       "        vertical-align: top;\n",
       "    }\n",
       "\n",
       "    .dataframe thead th {\n",
       "        text-align: right;\n",
       "    }\n",
       "</style>\n",
       "<table border=\"1\" class=\"dataframe\">\n",
       "  <thead>\n",
       "    <tr style=\"text-align: right;\">\n",
       "      <th></th>\n",
       "      <th>Title</th>\n",
       "      <th>Username</th>\n",
       "      <th>Comment</th>\n",
       "      <th>Date</th>\n",
       "      <th>LikeCount</th>\n",
       "      <th>EmotionVader</th>\n",
       "    </tr>\n",
       "  </thead>\n",
       "  <tbody>\n",
       "    <tr>\n",
       "      <th>0</th>\n",
       "      <td>Maserati Tipo Folgore - First look from Masera...</td>\n",
       "      <td>@SultanNizi3000GT</td>\n",
       "      <td>By far the best looking Formula E team this se...</td>\n",
       "      <td>8 months ago</td>\n",
       "      <td>3 likes</td>\n",
       "      <td>1</td>\n",
       "    </tr>\n",
       "    <tr>\n",
       "      <th>1</th>\n",
       "      <td>Maserati Tipo Folgore - First look from Masera...</td>\n",
       "      <td>@jeevanvishnu1594</td>\n",
       "      <td>Splendid performance  💕💕🖤🖤🔱</td>\n",
       "      <td>8 months ago</td>\n",
       "      <td>NaN</td>\n",
       "      <td>1</td>\n",
       "    </tr>\n",
       "    <tr>\n",
       "      <th>2</th>\n",
       "      <td>Maserati Tipo Folgore - First look from Masera...</td>\n",
       "      <td>@alessandrocorradini2216</td>\n",
       "      <td>Grande Maserati vero made in Italy in formula ...</td>\n",
       "      <td>8 months ago</td>\n",
       "      <td>NaN</td>\n",
       "      <td>0</td>\n",
       "    </tr>\n",
       "    <tr>\n",
       "      <th>3</th>\n",
       "      <td>Maserati Tipo Folgore - First look from Masera...</td>\n",
       "      <td>@racingtpmotorsport-technique</td>\n",
       "      <td>Con Maserati ho un rapporto fantastico da anni...</td>\n",
       "      <td>8 months ago</td>\n",
       "      <td>NaN</td>\n",
       "      <td>0</td>\n",
       "    </tr>\n",
       "    <tr>\n",
       "      <th>4</th>\n",
       "      <td>Maserati Tipo Folgore - First look from Masera...</td>\n",
       "      <td>@Marcelloso</td>\n",
       "      <td>Finalmente Maserati torna a competere seriamen...</td>\n",
       "      <td>8 months ago</td>\n",
       "      <td>NaN</td>\n",
       "      <td>0</td>\n",
       "    </tr>\n",
       "    <tr>\n",
       "      <th>...</th>\n",
       "      <td>...</td>\n",
       "      <td>...</td>\n",
       "      <td>...</td>\n",
       "      <td>...</td>\n",
       "      <td>...</td>\n",
       "      <td>...</td>\n",
       "    </tr>\n",
       "    <tr>\n",
       "      <th>210</th>\n",
       "      <td>Introducing the Maserati Tipo Folgore Gen3 For...</td>\n",
       "      <td>@giuseppefanelli4619</td>\n",
       "      <td>Stupenda</td>\n",
       "      <td>8 months ago</td>\n",
       "      <td>NaN</td>\n",
       "      <td>0</td>\n",
       "    </tr>\n",
       "    <tr>\n",
       "      <th>211</th>\n",
       "      <td>Introducing the Maserati Tipo Folgore Gen3 For...</td>\n",
       "      <td>@mustafaengin3624</td>\n",
       "      <td>💙🖤</td>\n",
       "      <td>8 months ago</td>\n",
       "      <td>NaN</td>\n",
       "      <td>0</td>\n",
       "    </tr>\n",
       "    <tr>\n",
       "      <th>212</th>\n",
       "      <td>Introducing the Maserati Tipo Folgore Gen3 For...</td>\n",
       "      <td>@simeonv5303</td>\n",
       "      <td>LFG  🔌🔌🔌</td>\n",
       "      <td>8 months ago</td>\n",
       "      <td>NaN</td>\n",
       "      <td>0</td>\n",
       "    </tr>\n",
       "    <tr>\n",
       "      <th>213</th>\n",
       "      <td>Introducing the Maserati Tipo Folgore Gen3 For...</td>\n",
       "      <td>@migueljurado9219</td>\n",
       "      <td>See you all in january  💙🖤</td>\n",
       "      <td>8 months ago</td>\n",
       "      <td>NaN</td>\n",
       "      <td>0</td>\n",
       "    </tr>\n",
       "    <tr>\n",
       "      <th>214</th>\n",
       "      <td>Introducing the Maserati Tipo Folgore Gen3 For...</td>\n",
       "      <td>@diethersantos6404</td>\n",
       "      <td>Hey hey testing is coming up next week</td>\n",
       "      <td>8 months ago</td>\n",
       "      <td>NaN</td>\n",
       "      <td>0</td>\n",
       "    </tr>\n",
       "  </tbody>\n",
       "</table>\n",
       "<p>215 rows × 6 columns</p>\n",
       "</div>"
      ],
      "text/plain": [
       "                                                 Title  \\\n",
       "0    Maserati Tipo Folgore - First look from Masera...   \n",
       "1    Maserati Tipo Folgore - First look from Masera...   \n",
       "2    Maserati Tipo Folgore - First look from Masera...   \n",
       "3    Maserati Tipo Folgore - First look from Masera...   \n",
       "4    Maserati Tipo Folgore - First look from Masera...   \n",
       "..                                                 ...   \n",
       "210  Introducing the Maserati Tipo Folgore Gen3 For...   \n",
       "211  Introducing the Maserati Tipo Folgore Gen3 For...   \n",
       "212  Introducing the Maserati Tipo Folgore Gen3 For...   \n",
       "213  Introducing the Maserati Tipo Folgore Gen3 For...   \n",
       "214  Introducing the Maserati Tipo Folgore Gen3 For...   \n",
       "\n",
       "                          Username  \\\n",
       "0                @SultanNizi3000GT   \n",
       "1                @jeevanvishnu1594   \n",
       "2         @alessandrocorradini2216   \n",
       "3    @racingtpmotorsport-technique   \n",
       "4                      @Marcelloso   \n",
       "..                             ...   \n",
       "210           @giuseppefanelli4619   \n",
       "211              @mustafaengin3624   \n",
       "212                   @simeonv5303   \n",
       "213              @migueljurado9219   \n",
       "214             @diethersantos6404   \n",
       "\n",
       "                                               Comment          Date  \\\n",
       "0    By far the best looking Formula E team this se...  8 months ago   \n",
       "1                          Splendid performance  💕💕🖤🖤🔱  8 months ago   \n",
       "2    Grande Maserati vero made in Italy in formula ...  8 months ago   \n",
       "3    Con Maserati ho un rapporto fantastico da anni...  8 months ago   \n",
       "4    Finalmente Maserati torna a competere seriamen...  8 months ago   \n",
       "..                                                 ...           ...   \n",
       "210                                          Stupenda   8 months ago   \n",
       "211                                                 💙🖤  8 months ago   \n",
       "212                                           LFG  🔌🔌🔌  8 months ago   \n",
       "213                         See you all in january  💙🖤  8 months ago   \n",
       "214            Hey hey testing is coming up next week   8 months ago   \n",
       "\n",
       "    LikeCount  EmotionVader  \n",
       "0     3 likes             1  \n",
       "1         NaN             1  \n",
       "2         NaN             0  \n",
       "3         NaN             0  \n",
       "4         NaN             0  \n",
       "..        ...           ...  \n",
       "210       NaN             0  \n",
       "211       NaN             0  \n",
       "212       NaN             0  \n",
       "213       NaN             0  \n",
       "214       NaN             0  \n",
       "\n",
       "[215 rows x 6 columns]"
      ]
     },
     "execution_count": 8,
     "metadata": {},
     "output_type": "execute_result"
    }
   ],
   "source": [
    "# Add the emotionVader list as a new column 'EmotionVader' in the DataFrame\n",
    "df['EmotionVader'] = emotionVader\n",
    "\n",
    "# Display the updated DataFrame with the new 'EmotionVader' column\n",
    "df"
   ]
  },
  {
   "cell_type": "code",
   "execution_count": 9,
   "metadata": {},
   "outputs": [
    {
     "data": {
      "text/plain": [
       "EmotionVader\n",
       "0    125\n",
       "1     90\n",
       "Name: count, dtype: int64"
      ]
     },
     "execution_count": 9,
     "metadata": {},
     "output_type": "execute_result"
    }
   ],
   "source": [
    "# Count the frequency of each unique value in the 'EmotionVader' column and store it in emotionCount\n",
    "emotionCount = df['EmotionVader'].value_counts()\n",
    "\n",
    "# Display the counts of each unique emotion value\n",
    "emotionCount"
   ]
  },
  {
   "cell_type": "markdown",
   "metadata": {},
   "source": [
    "### Method 2: Roberta Pretrained Model"
   ]
  },
  {
   "cell_type": "code",
   "execution_count": 1,
   "metadata": {},
   "outputs": [],
   "source": [
    "# Import libraries\n",
    "from transformers import AutoTokenizer\n",
    "from transformers import AutoModelForSequenceClassification\n",
    "from scipy.special import softmax"
   ]
  },
  {
   "cell_type": "code",
   "execution_count": 2,
   "metadata": {},
   "outputs": [],
   "source": [
    "# Specify the pre-trained model to use for sentiment analysis\n",
    "MODEL = \"cardiffnlp/twitter-roberta-base-sentiment\"\n",
    "\n",
    "# Initialize the tokenizer from the pre-trained model\n",
    "tokenizer = AutoTokenizer.from_pretrained(MODEL)\n",
    "\n",
    "# Initialize the sequence classification model from the pre-trained model\n",
    "model = AutoModelForSequenceClassification.from_pretrained(MODEL)"
   ]
  },
  {
   "cell_type": "code",
   "execution_count": 6,
   "metadata": {},
   "outputs": [
    {
     "name": "stdout",
     "output_type": "stream",
     "text": [
      "{'roberta_neg': 0.025792567, 'roberta_neu': 0.85818154, 'roberta_pos': 0.11602589}\n"
     ]
    }
   ],
   "source": [
    "df = pd.read_excel('../FormulaE.xlsx')\n",
    "\n",
    "# Iterate through each comment in the DataFrame\n",
    "for i in df.Comment:\n",
    "    # Tokenize the comment and prepare it for the model\n",
    "    encodedText = tokenizer(i, return_tensors='pt')\n",
    "    \n",
    "    # Get the sentiment scores using the model\n",
    "    output = model(**encodedText)\n",
    "    \n",
    "    # Extract and detach the scores from the model's output and convert to numpy array\n",
    "    scores = output[0][0].detach().numpy()\n",
    "    \n",
    "    # Apply the Softmax function to the scores to get probabilities\n",
    "    scores = softmax(scores)\n",
    "    \n",
    "    # Create a dictionary to store the sentiment probabilities\n",
    "    scoresDict = {\n",
    "        'roberta_neg' : scores[0],  # Negative sentiment probability\n",
    "        'roberta_neu' : scores[1],  # Neutral sentiment probability\n",
    "        'roberta_pos' : scores[2]   # Positive sentiment probability\n",
    "    }\n",
    "\n",
    "# Display the sentiment scores for the last comment in the DataFrame\n",
    "print(scoresDict)\n"
   ]
  },
  {
   "cell_type": "code",
   "execution_count": 7,
   "metadata": {},
   "outputs": [],
   "source": [
    "# Initialise an empty list to store the sentiment values based on RoBERTa model\n",
    "emotionRoberta = []\n",
    "\n",
    "# Loop through each comment in the DataFrame\n",
    "for i in df.Comment:\n",
    "    # Tokenise the comment and prepare it for the model\n",
    "    encodedText = tokenizer(i, return_tensors='pt')\n",
    "    \n",
    "    # Get the sentiment scores using the model\n",
    "    output = model(**encodedText)\n",
    "    \n",
    "    # Extract and detach the scores from the model's output and convert to numpy array\n",
    "    scores = output[0][0].detach().numpy()\n",
    "    \n",
    "    # Apply the Softmax function to the scores to get probabilities\n",
    "    scores = softmax(scores)\n",
    "    \n",
    "    # Calculate a compound score based on the probabilities for negative and positive sentiments\n",
    "    compoundScore = scores[0] * (-1) + scores[2]\n",
    "\n",
    "    # Classify the comment as positive or negative based on the compound score\n",
    "    if compoundScore > 0:\n",
    "        # Append 1 to indicate a positive comment\n",
    "        emotionRoberta.append(1)\n",
    "    else:\n",
    "        # Append 0 to indicate a negative comment\n",
    "        emotionRoberta.append(0)\n"
   ]
  },
  {
   "cell_type": "code",
   "execution_count": 8,
   "metadata": {},
   "outputs": [
    {
     "data": {
      "text/plain": [
       "EmotionRoberta\n",
       "1    137\n",
       "0     78\n",
       "Name: count, dtype: int64"
      ]
     },
     "execution_count": 8,
     "metadata": {},
     "output_type": "execute_result"
    }
   ],
   "source": [
    "# Add the 'emotionRoberta' list as a new column 'EmotionRoberta' to the DataFrame\n",
    "df['EmotionRoberta'] = emotionRoberta\n",
    "\n",
    "# Count the frequency of each unique value in the 'EmotionRoberta' column and store it in 'emotionCount'\n",
    "emotionCount = df['EmotionRoberta'].value_counts()\n",
    "\n",
    "# Display the counts of each unique value in the 'EmotionRoberta' column\n",
    "emotionCount\n"
   ]
  },
  {
   "cell_type": "code",
   "execution_count": 9,
   "metadata": {},
   "outputs": [],
   "source": [
    "# Save the updated DataFrame to an Excel file named 'RobertaSentimentalFormulaE.xlsx'\n",
    "df.to_excel('RobertaSentimentalFormulaE.xlsx')\n"
   ]
  },
  {
   "cell_type": "code",
   "execution_count": 10,
   "metadata": {},
   "outputs": [
    {
     "name": "stdout",
     "output_type": "stream",
     "text": [
      "0.0 of the emojis are not identified by this tokenizer.\n"
     ]
    }
   ],
   "source": [
    "# Initialize a list of all emojis\n",
    "emojiList = list(emoji.EMOJI_DATA.keys())\n",
    "\n",
    "# Initialize a counter for emojis that are not identified by the tokenizer\n",
    "cnt = 0\n",
    "\n",
    "# Loop through each emoji to check its tokenization\n",
    "for e in emojiList:\n",
    "    # Tokenize and decode the emoji, removing special tokens like </s>\n",
    "    tokenized = tokenizer.decode(tokenizer.encode(e)).strip(\"</s>\").strip()\n",
    "    \n",
    "    # Check if the original emoji is not present in the tokenized form\n",
    "    if e not in tokenized:\n",
    "        cnt += 1  # Increment the counter if the emoji is not identified\n",
    "\n",
    "# Calculate and print the proportion of emojis not identified by the tokenizer\n",
    "print(f\"{cnt/len(emojiList)} of the emojis are not identified by this tokenizer.\")\n"
   ]
  },
  {
   "cell_type": "code",
   "execution_count": 13,
   "metadata": {},
   "outputs": [],
   "source": [
    "# Load the Excel file 'RobertaSentimentalFormulaE.xlsx' into a DataFrame after cleaning\n",
    "df = pd.read_excel('../RobertaSentimentalFormulaEfinal.xlsx')\n"
   ]
  },
  {
   "cell_type": "markdown",
   "metadata": {},
   "source": [
    "## Visualisation"
   ]
  },
  {
   "cell_type": "code",
   "execution_count": 14,
   "metadata": {},
   "outputs": [
    {
     "data": {
      "image/png": "[encoded data removed]",
      "text/plain": [
       "<Figure size 1008x504 with 1 Axes>"
      ]
     },
     "metadata": {
      "needs_background": "light"
     },
     "output_type": "display_data"
    }
   ],
   "source": [
    "# Data Preprocessing: Create a 'MonthYear' column from 'ActualDate'\n",
    "df['MonthYear'] = df['ActualDate'].dt.strftime('%m/%Y')\n",
    "\n",
    "# Group by 'MonthYear' to count the total number of comments\n",
    "totalComments = df.groupby('MonthYear').size().reset_index(name='Number_of_Comments')\n",
    "\n",
    "# Reordering code to make '12/2022' the first entry\n",
    "uniqueDate = totalComments['MonthYear'].tolist()\n",
    "uniqueDate.remove('12/2022')\n",
    "sortedDate = sorted(uniqueDate, key=lambda x: (int(x.split('/')[1]), int(x.split('/')[0])))\n",
    "sortedDate = ['12/2022'] + sortedDate\n",
    "totalComments = totalComments.set_index('MonthYear').loc[sortedDate].reset_index()\n",
    "\n",
    "# Create the DataFrame for the stacked bar chart\n",
    "stackedBarData = df.groupby(['MonthYear', 'EmotionRoberta']).size().reset_index(name='Number_of_Comments')\n",
    "stackedBarDataPivot = stackedBarData.pivot(index='MonthYear', columns='EmotionRoberta', values='Number_of_Comments')\n",
    "stackedBarDataPivot = stackedBarDataPivot.reindex(totalComments['MonthYear'])  # Align dates\n",
    "\n",
    "# Data Visualization\n",
    "fig, ax1 = plt.subplots(figsize=(14, 7))\n",
    "\n",
    "# Stacked Bar Chart for EmotionRoberta\n",
    "colors = [\"#B0E2FF\",\"#FFB6C1\"]\n",
    "stackedBarDataPivot = stackedBarDataPivot.reindex(totalComments['MonthYear'])  # Align dates\n",
    "bottomValues = np.zeros(len(stackedBarDataPivot))\n",
    "\n",
    "for idx, column in enumerate(stackedBarDataPivot.columns):\n",
    "    bars = ax1.bar(stackedBarDataPivot.index, stackedBarDataPivot[column].fillna(0), bottom=bottomValues, color=colors[idx], alpha=0.6,label=f'EmotionRoberta: {column}', width=1.0)\n",
    "    bottomValues += stackedBarDataPivot[column].fillna(0)\n",
    "\n",
    "    # Add the emotion counts to the bars\n",
    "    for bar in bars:\n",
    "        height = bar.get_height()\n",
    "        position = bar.get_y()\n",
    "        if height > 0:  # To avoid placing labels on bars with height 0\n",
    "            ax1.text(bar.get_x() + bar.get_width()/2, position + height/2, str(int(height)), ha='center', va='center', fontsize=10)\n",
    "\n",
    "# Time-Series Line Plot for Number of Comments\n",
    "ax1.plot(totalComments['MonthYear'].values, totalComments['Number_of_Comments'].values, marker='o', linestyle='-', color='black', linewidth=0.6, zorder=3)\n",
    "ax1.set_xlabel('Time by Month')\n",
    "ax1.set_ylabel('Number of Comments')\n",
    "ax1.set_title('Number of Comments and Sentimental Analysis Distribution Over Time')\n",
    "ax1.grid(False)\n",
    "\n",
    "# Setting labels and title for the y-axis\n",
    "ax1.legend(['Number of Comments','Negative', 'Positive'], loc='upper left', bbox_to_anchor=(1, 1))\n",
    "\n",
    "# Final layout adjustments\n",
    "plt.xticks(rotation=45)\n",
    "fig.tight_layout()\n",
    "plt.show()\n"
   ]
  },
  {
   "cell_type": "markdown",
   "metadata": {},
   "source": [
    "## Topic Modeling"
   ]
  },
  {
   "cell_type": "code",
   "execution_count": 15,
   "metadata": {},
   "outputs": [
    {
     "name": "stdout",
     "output_type": "stream",
     "text": [
      "Topic 1:\n",
      "racing great max best formula gunther big pretty baswedan anis\n",
      "Topic 2:\n",
      "win good formula race like job wow santiago talking nice\n",
      "Topic 3:\n",
      "formula like broken think max racing maserati race series got\n",
      "Topic 4:\n",
      "jakarta highlights free practice gunther love amazing nissan formula indonesia\n",
      "Topic 5:\n",
      "race team spot round congrats different know going tamiya racing\n"
     ]
    },
    {
     "name": "stderr",
     "output_type": "stream",
     "text": [
      "/var/folders/1l/vkcgv6mj57dgg6m2ypwrxt240000gn/T/ipykernel_91243/4105457483.py:13: SettingWithCopyWarning: \n",
      "A value is trying to be set on a copy of a slice from a DataFrame.\n",
      "Try using .loc[row_indexer,col_indexer] = value instead\n",
      "\n",
      "See the caveats in the documentation: https://pandas.pydata.org/pandas-docs/stable/user_guide/indexing.html#returning-a-view-versus-a-copy\n",
      "  dfJune['ProcessedComment'] = dfJune['Comment'].astype(str).apply(preprocess_text)\n"
     ]
    }
   ],
   "source": [
    "# Load the English language small model of SpaCy\n",
    "en = spacy.load('en_core_web_sm')\n",
    "sw_spacy = en.Defaults.stop_words\n",
    "\n",
    "# Preprocesses the text by converting to lowercase, splitting, removing non-alphanumeric words, and filtering out stop words\n",
    "def preprocess_text(text):\n",
    "    return ' '.join([word for word in text.lower().split() if word.isalpha() and word not in sw_spacy and len(word) > 2])\n",
    "\n",
    "# Filter the data for June 2023\n",
    "dfJune = df[df['MonthYear'] == '06/2023']\n",
    "\n",
    "# Apply text preprocessing\n",
    "dfJune['ProcessedComment'] = dfJune['Comment'].astype(str).apply(preprocess_text)\n",
    "\n",
    "# Transform into a bag of words\n",
    "vectorizer = CountVectorizer(max_df=0.95, min_df=2, stop_words='english')\n",
    "data_vectorized = vectorizer.fit_transform(dfJune['ProcessedComment'])\n",
    "\n",
    "# Train the LDA model\n",
    "num_topics = 5\n",
    "lda_model = LatentDirichletAllocation(n_components=num_topics, random_state=42)\n",
    "lda_model.fit(data_vectorized)\n",
    "\n",
    "# Display the top 10 words for each topic\n",
    "feature_names = vectorizer.get_feature_names_out()\n",
    "for topic_idx, topic in enumerate(lda_model.components_):\n",
    "    print(f\"Topic {topic_idx + 1}:\")\n",
    "    print(\" \".join([feature_names[i] for i in topic.argsort()[:-11:-1]]))\n"
   ]
  }
 ],
 "metadata": {
  "kernelspec": {
   "display_name": "Python 3.9.12 ('base')",
   "language": "python",
   "name": "python3"
  },
  "language_info": {
   "codemirror_mode": {
    "name": "ipython",
    "version": 3
   },
   "file_extension": ".py",
   "mimetype": "text/x-python",
   "name": "python",
   "nbconvert_exporter": "python",
   "pygments_lexer": "ipython3",
   "version": "3.9.12"
  },
  "orig_nbformat": 4,
  "vscode": {
   "interpreter": {
    "hash": "aa7b63b2816c1bdbcd645d26c2b2c86c1f9533463077c1036b1b552d7aaa1234"
   }
  }
 },
 "nbformat": 4,
 "nbformat_minor": 2
}

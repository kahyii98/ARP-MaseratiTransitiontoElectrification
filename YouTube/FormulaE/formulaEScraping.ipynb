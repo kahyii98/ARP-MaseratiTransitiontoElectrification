{
 "cells": [
  {
   "cell_type": "markdown",
   "metadata": {},
   "source": [
    "# Web Scraping Formula E"
   ]
  },
  {
   "cell_type": "code",
   "execution_count": null,
   "metadata": {},
   "outputs": [],
   "source": [
    "# Import libraries\n",
    "import time\n",
    "from selenium.webdriver import Chrome\n",
    "from selenium.webdriver.common.by import By\n",
    "from selenium.webdriver.common.keys import Keys\n",
    "from selenium.webdriver.support.ui import WebDriverWait\n",
    "from selenium.webdriver.support import expected_conditions as EC\n",
    "from selenium import webdriver\n",
    "import pandas as pd\n"
   ]
  },
  {
   "cell_type": "code",
   "execution_count": null,
   "metadata": {},
   "outputs": [],
   "source": [
    "#Write a pathway for macbook user to run Chrome\n",
    "driver = webdriver.Chrome(\"your_path_to_chromedriver/chromedriver\")\n",
    "\n",
    "# Open the YouTube website and search for \"Maserati Folgore\" videos\n",
    "driver.get(\"https://www.youtube.com/\")\n",
    "time.sleep(10)\n",
    "\n"
   ]
  },
  {
   "cell_type": "code",
   "execution_count": null,
   "metadata": {},
   "outputs": [],
   "source": [
    "# Locate the cookie acceptance button using its XPATH\n",
    "cookie_button = driver.find_element(By.XPATH,'//*[@id=\"content\"]/div[2]/div[6]/div[1]/ytd-button-renderer[2]/yt-button-shape/button/yt-touch-feedback-shape/div/div[2]')\n",
    "\n",
    "# Click the cookie acceptance button to proceed\n",
    "cookie_button.click()\n",
    "\n",
    "time.sleep(10)"
   ]
  },
  {
   "cell_type": "code",
   "execution_count": null,
   "metadata": {},
   "outputs": [],
   "source": [
    "# Locate the search bar element on the YouTube homepage using its XPATH\n",
    "search_bar = driver.find_element(By.XPATH, '/html/body/ytd-app/div[1]/div/ytd-masthead/div[4]/div[2]/ytd-searchbox/form/div[1]/div[1]/input')"
   ]
  },
  {
   "cell_type": "code",
   "execution_count": null,
   "metadata": {},
   "outputs": [],
   "source": [
    "# Type the query \"Maserati FormulaE\" into the search bar\n",
    "search_bar.send_keys(\"Maserati FormulaE\")\n",
    "\n",
    "# Submit the search form to execute the search on YouTube\n",
    "search_bar.submit()"
   ]
  },
  {
   "cell_type": "code",
   "execution_count": 26,
   "metadata": {},
   "outputs": [
    {
     "data": {
      "text/plain": [
       "<selenium.webdriver.remote.webelement.WebElement (session=\"e810db38b53da3c6693bbed2c908c787\", element=\"CCE4BE89F6E5A8CD25480AD70595273F_element_62\")>"
      ]
     },
     "execution_count": 26,
     "metadata": {},
     "output_type": "execute_result"
    }
   ],
   "source": [
    "# Wait for the search results to load\n",
    "wait = WebDriverWait(driver, 10)\n",
    "wait.until(EC.presence_of_element_located((By.ID, \"contents\")))\n"
   ]
  },
  {
   "cell_type": "code",
   "execution_count": null,
   "metadata": {},
   "outputs": [],
   "source": [
    "# Find all the video links on the search results page that are not \"People also watched\"\n",
    "video_links = driver.find_elements(By.CSS_SELECTOR, \"#contents ytd-video-renderer #video-title:not([aria-label*='People also watched'])\")\n",
    "\n",
    "\n",
    "# Create an empty list to store the dataframes for each video\n",
    "dfs = []\n",
    "\n",
    "# Loop through each video link\n",
    "for link in video_links:\n",
    "    # Click on the link to navigate to the video page\n",
    "    link.click()\n",
    "\n",
    "    time.sleep(10)\n",
    "    \n",
    "    # Wait until comments are visible\n",
    "    WebDriverWait(driver, 20).until(EC.visibility_of_element_located((By.XPATH, '//*[@id=\"contents\"]//ytd-comment-thread-renderer')))\n",
    "    \n",
    "    # Extract the video title\n",
    "    titleElem = driver.find_element_by_xpath('//*[@id=\"title\"]/h1/yt-formatted-string')\n",
    "    title=titleElem.text \n",
    "\n",
    "    # Scroll down to load all the comments on the page\n",
    "    lastHeight = driver.execute_script(\"return document.documentElement.scrollHeight\")\n",
    "    while True:\n",
    "        driver.execute_script(\"window.scrollTo(0, document.documentElement.scrollHeight);\")\n",
    "        time.sleep(2)\n",
    "        newHeight = driver.execute_script(\"return document.documentElement.scrollHeight\")\n",
    "        if newHeight == lastHeight:\n",
    "            break\n",
    "        lastHeight = newHeight\n",
    "\n",
    "    time.sleep(5)\n",
    "    # Expand any \"View replies\" buttons to load and scrape replies to comments\n",
    "    replyButtons = driver.find_elements(By.XPATH, '//*[@id=\"more-replies\"]/yt-button-shape/button/yt-touch-feedback-shape/div/div[2]')\n",
    "    for replyButton in replyButtons:\n",
    "        replyButton.location_once_scrolled_into_view\n",
    "        driver.execute_script(\"arguments[0].click()\", replyButton)\n",
    "        time.sleep(2)\n",
    "\n",
    "    # Find the updated HTML elements for comments, dates, usernames, likes, and dislikes after expanding the replies\n",
    "    commentElems = driver.find_elements(By.XPATH, '//*[@id=\"content-text\"]')\n",
    "    dateElems = driver.find_elements(By.XPATH, '//*[@id=\"header-author\"]/yt-formatted-string/a')\n",
    "    usernameElems = driver.find_elements(By.XPATH, '//*[@id=\"content-text\"]/ancestor::ytd-comment-renderer//a[@id=\"author-text\"]')\n",
    "    likeElems = driver.find_elements(By.XPATH, '//*[@id=\"vote-count-middle\"]')\n",
    "\n",
    "    # Initialise lists to store scraped data\n",
    "    comments = []\n",
    "    dates = []\n",
    "    usernames = []\n",
    "    likes = []\n",
    "    emojis=[]\n",
    "    emojiAlt=\"\"\n",
    "\n",
    "    # Iterate through each comment and extract data    \n",
    "    for i in range(len(commentElems)):\n",
    "        emojiAlt=\"\"\n",
    "        commentText = commentElems[i].text\n",
    "        date = dateElems[i].text\n",
    "        username = usernameElems[i].text\n",
    "        likeCount = likeElems[i].get_attribute('aria-label')\n",
    "\n",
    "        innerImg = commentElems[i].find_elements_by_tag_name('img')\n",
    "        for j in innerImg:\n",
    "            if j:\n",
    "                emojiAlt += j.get_attribute('alt')\n",
    "        \n",
    "        # Append extracted data to lists\n",
    "        comments.append(commentText + \" \" + emojiAlt)\n",
    "        dates.append(date)\n",
    "        usernames.append(username)\n",
    "        likes.append(likeCount)\n",
    "        # dislikes.append(dislike_count)\n",
    "\n",
    "    # Create a DataFrame from the comments and add the video title as a column\n",
    "    df = pd.DataFrame({'Username':usernames,'Comment': comments, 'Date': dates,'LikeCount':likes})\n",
    "    df.insert(0, \"Title\", title)\n",
    "    \n",
    "    # Append the DataFrame to the list\n",
    "    dfs.append(df)\n",
    "    \n",
    "    # Navigate back to the search results page\n",
    "    driver.back()\n",
    "\n",
    "    # Wait for the search results to load\n",
    "    wait.until(EC.presence_of_element_located((By.ID, \"contents\")))\n",
    "\n",
    "# Close the web browser\n",
    "driver.quit()\n"
   ]
  },
  {
   "cell_type": "code",
   "execution_count": null,
   "metadata": {},
   "outputs": [],
   "source": [
    "# Concatenate all dataframes into a single dataframe\n",
    "result = pd.concat(dfs)\n",
    "\n",
    "# Export the dataframe to a CSV file\n",
    "result.to_excel(\"FormulaE.xlsx\", index=False)\n"
   ]
  }
 ],
 "metadata": {
  "kernelspec": {
   "display_name": "Python 3.9.12 ('base')",
   "language": "python",
   "name": "python3"
  },
  "language_info": {
   "codemirror_mode": {
    "name": "ipython",
    "version": 3
   },
   "file_extension": ".py",
   "mimetype": "text/x-python",
   "name": "python",
   "nbconvert_exporter": "python",
   "pygments_lexer": "ipython3",
   "version": "3.9.12"
  },
  "orig_nbformat": 4,
  "vscode": {
   "interpreter": {
    "hash": "aa7b63b2816c1bdbcd645d26c2b2c86c1f9533463077c1036b1b552d7aaa1234"
   }
  }
 },
 "nbformat": 4,
 "nbformat_minor": 2
}

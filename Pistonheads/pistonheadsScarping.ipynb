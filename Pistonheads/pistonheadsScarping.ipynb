{
 "cells": [
  {
   "cell_type": "markdown",
   "metadata": {},
   "source": [
    "# Pistonhead Web Scraping"
   ]
  },
  {
   "cell_type": "code",
   "execution_count": 1,
   "metadata": {},
   "outputs": [],
   "source": [
    "# Import libraries\n",
    "import time\n",
    "from selenium.webdriver import Chrome\n",
    "from selenium.webdriver.common.by import By\n",
    "from selenium.webdriver.common.keys import Keys\n",
    "from selenium.webdriver.support.ui import WebDriverWait\n",
    "from selenium.webdriver.support import expected_conditions as EC\n",
    "from selenium import webdriver\n",
    "import pandas as pd\n"
   ]
  },
  {
   "cell_type": "code",
   "execution_count": 2,
   "metadata": {},
   "outputs": [],
   "source": [
    "# Write a pathway for macbook user to run Chrome\n",
    "driver = webdriver.Chrome(\"your_path_to_chromedriver/chromedriver\")\n",
    "driver.get(\"https://www.pistonheads.com/gassing/topic.asp?h=0&f=23&t=2021874&i=0\")\n",
    "time.sleep(10)"
   ]
  },
  {
   "cell_type": "code",
   "execution_count": 3,
   "metadata": {},
   "outputs": [],
   "source": [
    "# Find the cookie acceptance button using its XPATH\n",
    "cookie_button = driver.find_element(By.XPATH,'//*[@id=\"qc-cmp2-ui\"]/div[2]/div/button[3]')\n",
    "# Click the cookie acceptance button to proceed\n",
    "cookie_button.click()\n",
    "# Wait for the search results to load\n",
    "wait = WebDriverWait(driver, 10)"
   ]
  },
  {
   "cell_type": "code",
   "execution_count": 4,
   "metadata": {},
   "outputs": [],
   "source": [
    "# Create empty lists to store authors, comments, and dates\n",
    "authorList=[]\n",
    "commentList=[]\n",
    "dateList=[]\n",
    "\n",
    "# Loop to iterate through multiple pages (from page 1 to 6)\n",
    "for j in range(1,7):\n",
    "\n",
    "    # Handle the first and last pages separately\n",
    "    if j==1:\n",
    "        pageNext = driver.find_element(By.XPATH,'//*[@id=\"content\"]/section/div[6]/div[2]/div[1]/a[{}]'.format(j+1))\n",
    "    elif j==6:\n",
    "        pass    \n",
    "    else:\n",
    "        pageNext = driver.find_element(By.XPATH,'//*[@id=\"content\"]/section/div[5]/div[2]/div[1]/a[{}]'.format(j+1))\n",
    "\n",
    "     # Loop to iterate through individual posts on the page (up to 20)\n",
    "    for i in range(1,21):\n",
    "        # Fetch the author name, comment, and date of the post\n",
    "        authorElem = driver.find_element(By.XPATH,'//*[@id=\"message{}\"]/div[1]/p[1]/a'.format(i))\n",
    "        commentElem = driver.find_element(By.XPATH, '//*[@id=\"message{}\"]/div[2]/div/div[2]'.format(i))\n",
    "        dateElem = driver.find_element(By.XPATH,'//*[@id=\"message{}\"]/div[2]/div/div[1]/span'.format(i))\n",
    "\n",
    "        # Store the fetched data into variables\n",
    "        comments= commentElem.text\n",
    "        authorName=authorElem.text\n",
    "        date=dateElem.text\n",
    "\n",
    "        # Append the variables to the lists\n",
    "        authorList.append(authorName)\n",
    "        commentList.append(comments)\n",
    "        dateList.append(date)\n",
    "\n",
    "        # Try to find the next element, break the loop if not found\n",
    "        try:\n",
    "            driver.find_element(By.XPATH,'//*[@id=\"message{}\"]/div[1]/p[1]/a'.format(i+1))\n",
    "\n",
    "        except:\n",
    "            break\n",
    "\n",
    "    # Move to the next page if not on the last page\n",
    "    if j<6:\n",
    "            pageNext.click()\n",
    "\n",
    "# Close all browser windows and end the WebDriver session\n",
    "driver.quit()\n"
   ]
  },
  {
   "cell_type": "code",
   "execution_count": 5,
   "metadata": {},
   "outputs": [],
   "source": [
    "# Create a DataFrame using the lists for Author, Comment, and Date\n",
    "df = pd.DataFrame({'Author':authorList,'Comment': commentList,'Date':dateList})\n",
    "\n",
    "# Export the DataFrame to an Excel file, without including index\n",
    "df.to_excel(\"pistonheads.xlsx\", index=False)"
   ]
  }
 ],
 "metadata": {
  "kernelspec": {
   "display_name": "Python 3.9.12 ('base')",
   "language": "python",
   "name": "python3"
  },
  "language_info": {
   "codemirror_mode": {
    "name": "ipython",
    "version": 3
   },
   "file_extension": ".py",
   "mimetype": "text/x-python",
   "name": "python",
   "nbconvert_exporter": "python",
   "pygments_lexer": "ipython3",
   "version": "3.9.12"
  },
  "orig_nbformat": 4,
  "vscode": {
   "interpreter": {
    "hash": "aa7b63b2816c1bdbcd645d26c2b2c86c1f9533463077c1036b1b552d7aaa1234"
   }
  }
 },
 "nbformat": 4,
 "nbformat_minor": 2
}
